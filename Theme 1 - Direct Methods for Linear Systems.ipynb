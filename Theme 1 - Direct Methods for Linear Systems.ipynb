{
 "cells": [
  {
   "cell_type": "markdown",
   "id": "2e39c2e6",
   "metadata": {},
   "source": [
    "# <center> NUMERICAL ANALYSIS\n",
    "\n",
    "## <span style='color:blue'> Theme 1 - Direct Methods for Solving Linear Methods"
   ]
  },
  {
   "cell_type": "markdown",
   "id": "74738049",
   "metadata": {},
   "source": [
    "#### <span style='color:red'> [1.1] Find prime numbers in a range"
   ]
  },
  {
   "cell_type": "code",
   "execution_count": 3,
   "id": "8ac8aaac",
   "metadata": {},
   "outputs": [
    {
     "name": "stdout",
     "output_type": "stream",
     "text": [
      "Prime numbers between 0 and 10 are:\n",
      "2\n",
      "3\n",
      "5\n",
      "7\n"
     ]
    }
   ],
   "source": [
    "def allprimes(lower, upper):\n",
    "    print(\"Prime numbers between\", lower, \"and\", upper, \"are:\")\n",
    "    for num in range(lower,upper+1):\n",
    "        if num > 1: #prime numbers are greater than 1\n",
    "            for i in range(2,num):\n",
    "                if (num % i) == 0: #insure remainder = 0\n",
    "                    break\n",
    "            else:\n",
    "                print(num)\n",
    "    return\n",
    "allprimes(0,10)"
   ]
  },
  {
   "cell_type": "markdown",
   "id": "1c906c46",
   "metadata": {},
   "source": [
    "#### <span style='color:red'> [1.2] Solve: $y'=y(1-y)$ with Euler's Method"
   ]
  },
  {
   "cell_type": "code",
   "execution_count": 2,
   "id": "9ca4b298",
   "metadata": {},
   "outputs": [
    {
     "name": "stdout",
     "output_type": "stream",
     "text": [
      "Euler's Method:\n"
     ]
    },
    {
     "data": {
      "image/png": "[encoded data removed]",
      "text/plain": [
       "<Figure size 640x480 with 1 Axes>"
      ]
     },
     "metadata": {},
     "output_type": "display_data"
    }
   ],
   "source": [
    "def euler_code(n):\n",
    "    import numpy as np\n",
    "    import matplotlib.pyplot as plt\n",
    "    print(\"Euler's Method:\")\n",
    "    #Data Input\n",
    "    x0 = 0\n",
    "    y0 = 0.1\n",
    "    xf = 10\n",
    "    dx = (xf-x0)/(n-1)\n",
    "    #initialise variables\n",
    "    x = np.linspace(x0, xf, n)\n",
    "    y = np.zeros( [n] )\n",
    "    y[0] = y0\n",
    "    #main computations\n",
    "    for i in range(1,n):\n",
    "        y[i] = y[i-1] + dx*( y[i-1] - y[i-1]*y[i-1] )\n",
    "    for i in range(n):\n",
    "        ( x[i], y[i] )\n",
    "    plt.plot( x, y, '-')\n",
    "    plt.xlabel(\"Value of x\")\n",
    "    plt.ylabel(\"Value of y\")\n",
    "    plt.title(\"Approximate Solution with Forward Euler's Method\")\n",
    "    plt.show()\n",
    "euler_code(200)"
   ]
  },
  {
   "cell_type": "markdown",
   "id": "ece4c56c",
   "metadata": {},
   "source": [
    "#### <span style='color:red'> [1.3] Gaussian Elimination with Back Substitution"
   ]
  },
  {
   "cell_type": "markdown",
   "id": "b2ececf6",
   "metadata": {},
   "source": [
    "<img src=\"pics/algo1.PNG\" alt=\"Drawing\" style=\"width: 600px;margin-center: auto; margin-center: 0;\"/>"
   ]
  },
  {
   "cell_type": "code",
   "execution_count": 4,
   "id": "29f1458c",
   "metadata": {},
   "outputs": [],
   "source": [
    "import numpy as np\n",
    "import random\n",
    "\n",
    "def gauss(A,b):\n",
    "    n = len(A) \n",
    "    A = np.hstack((A,b)) #creating n x (n+1) augmented matrix\n",
    "    icount = 0\n",
    "    singular = 0\n",
    "    print(\"A is: \\n\", A)\n",
    "       \n",
    "    for i in range(0,n-1):                                  #Step 1: Gauss Elimination process\n",
    "        p = i                                               #Step 2     \n",
    "        while(p <= n and A[p][i] == 0):                     #A[0][0] = A_{11}, Identify next pivot element\n",
    "            p = p + 1\n",
    "        if p == n+1:\n",
    "            raise ValueError(\"Matrix is singular\") #No unique sol exist\n",
    "            singular += 1\n",
    "            break; \n",
    "            \n",
    "        if p != i:                                           #Step 3: row swap\n",
    "            A[[i,p]] = A[[p,i]] \n",
    "            \n",
    "        for j in range(i+1,n):                               #Step 4\n",
    "            m = A[j][i]/A[i][i]                              #Step 5: find the multiplier\n",
    "            icount += 1\n",
    "            \n",
    "            for k in range(i,n+1):                           #Step 6: applying row operation\n",
    "                A[j][k] = A[j][k] - m*A[i][k] \n",
    "                icount += 1\n",
    "        print(\"Reduced matrix = \\n%s\" % (A)) \n",
    "        \n",
    "    if A[n-1][n-1] == 0:                                     #Step 7\n",
    "        raise ValueError(\"\\nMatrix is singular\\n\")           #No unique sol exist\n",
    "        singular += 1\n",
    "    else: \n",
    "        x = np.zeros((n,1))                                  #Step 8: back substitution process\n",
    "        x[n-1] = A[n-1][n]/A[n-1][n-1]\n",
    "        icount += 1\n",
    "        \n",
    "    \n",
    "        for l in range(n-2,-1,-1):                           #Step 9: default for the range funtion is to count up \n",
    "                                                             #        by +1, but we can also go backwards by -1 steps \n",
    "                                                             #        which is whats happening here\n",
    "            Sigma = sum([A[l][j]*x[j] for j in range(l+1,n)] )\n",
    "            icount = icount + (l+1) \n",
    "            x[l] = (A[l][n] - Sigma)/A[l][l]\n",
    "            icount += 1\n",
    "        print(\"\\nThe solution is:\\n\", x)\n",
    "        print(\"\\nThe number of multiplication/division operations are: \", icount)\n",
    "    return"
   ]
  },
  {
   "cell_type": "code",
   "execution_count": 8,
   "id": "fed0c2b8",
   "metadata": {},
   "outputs": [
    {
     "name": "stdout",
     "output_type": "stream",
     "text": [
      "A is: \n",
      " [[1 1 1 1]\n",
      " [0 1 1 1]\n",
      " [0 0 5 1]]\n",
      "Reduced matrix = \n",
      "[[1 1 1 1]\n",
      " [0 1 1 1]\n",
      " [0 0 5 1]]\n",
      "Reduced matrix = \n",
      "[[1 1 1 1]\n",
      " [0 1 1 1]\n",
      " [0 0 5 1]]\n",
      "\n",
      "The solution is:\n",
      " [[0. ]\n",
      " [0.8]\n",
      " [0.2]]\n",
      "\n",
      "The number of multiplication/division operations are:  20\n"
     ]
    }
   ],
   "source": [
    "a1 = np.array([[1, 1, 1], [0, 1, 1], [0, 0, 5]])\n",
    "b1 = np.array([[1],[1],[1]])\n",
    "gauss(a1,b1)"
   ]
  },
  {
   "cell_type": "markdown",
   "id": "49b2c36c",
   "metadata": {},
   "source": [
    "#### <span style='color:red'> [1.4] Gauss-Jordan Elimination"
   ]
  },
  {
   "cell_type": "markdown",
   "id": "f0933937",
   "metadata": {},
   "source": [
    "<img src=\"pics/gje.PNG\" alt=\"Drawing\" style=\"width: 600px;margin-center: auto; margin-center: 0;\"/>"
   ]
  },
  {
   "cell_type": "code",
   "execution_count": 9,
   "id": "9cf569d7",
   "metadata": {},
   "outputs": [],
   "source": [
    "import numpy as np\n",
    "\n",
    "def gauss_jordan(A,b):\n",
    "    n = len(A)\n",
    "    A = np.hstack((A,b))\n",
    "    icount=0\n",
    "    x=np.zeros(n)\n",
    "    \n",
    "    for i in range(n):                                   #Step 1: Elimination process\n",
    "        \n",
    "        p = i                                            #Step 2      \n",
    "        while (p <= n-1 and A[p][i] == 0):\n",
    "            p = p + 1\n",
    "        if p == n:\n",
    "            raise ValueError(\"Matrix A is singular\")\n",
    "            break;\n",
    "       \n",
    "        if p != i:                                       #Step 3\n",
    "            A[[i,p]] = A[[p,i]]\n",
    "            \n",
    "        for j in range(0,n):                             #Step 4\n",
    "            if j!=i:\n",
    "                \n",
    "                m = A[j][i]/A[i][i]                      #Step 5\n",
    "                icount += 2\n",
    "                \n",
    "                for k in range(i,n+1):                   #Step 6\n",
    "                    A[j][k] = A[j][k] - m*A[i][k]\n",
    "                    icount += 1\n",
    "        print('\\nReduced matrix: \\n%s' % (A))\n",
    "\n",
    "    if A[n-1][n-1] == 0:                                 #Step 7\n",
    "        raise ValueError(\"Matrix A is singular\") \n",
    "\n",
    "    for j in range(0,n):                                 #Step 8\n",
    "        for i in range(0,j):\n",
    "            A[i][j] = ( A[i+1][j]*A[i][j] ) - ( A[i][j]*A[i+1][j] )\n",
    "    \n",
    "    for i in range(0,n):\n",
    "        x[i]=A[i][n]/A[i][i]\n",
    "    print(\"\\nSolution Vector: \", x)\n",
    "    return"
   ]
  },
  {
   "cell_type": "code",
   "execution_count": 10,
   "id": "186c2183",
   "metadata": {},
   "outputs": [
    {
     "name": "stdout",
     "output_type": "stream",
     "text": [
      "Gauss-Jordan Elimination of: \n",
      " [[  3.33  159.     10.3   795.   ]\n",
      " [  2.22   16.7     9.61    0.965]\n",
      " [ -1.56    5.18   -1.69    2.71 ]]\n",
      "\n",
      "Reduced matrix: \n",
      "[[   3.33        159.           10.3         795.        ]\n",
      " [   0.          -89.3           2.74333333 -529.035     ]\n",
      " [   0.           79.66648649    3.13522523  375.14243243]]\n",
      "\n",
      "Reduced matrix: \n",
      "[[   3.33          0.           15.18454647 -146.95481523]\n",
      " [   0.          -89.3           2.74333333 -529.035     ]\n",
      " [   0.            0.            5.582613    -96.82128177]]\n",
      "\n",
      "Reduced matrix: \n",
      "[[   3.33          0.            0.          116.39628105]\n",
      " [   0.          -89.3           0.         -481.45637511]\n",
      " [   0.            0.            5.582613    -96.82128177]]\n",
      "\n",
      "Solution Vector:  [ 34.95383815   5.39144877 -17.34336266]\n"
     ]
    }
   ],
   "source": [
    "a1 = np.array([[3.33,159,10.3], [2.22,16.7,9.61],[-1.56,5.18,-1.69]])\n",
    "b1 = np.array([[795],[0.965],[2.71]])\n",
    "print(\"Gauss-Jordan Elimination of: \\n\", np.hstack((a1,b1)))\n",
    "gauss_jordan(a1,b1)"
   ]
  },
  {
   "cell_type": "markdown",
   "id": "d540721b",
   "metadata": {},
   "source": [
    "#### <span style='color:red'> [1.5] Gaussian Elimination / Gauss-Jordan Hybrid Elimination"
   ]
  },
  {
   "cell_type": "markdown",
   "id": "45e1ad2c",
   "metadata": {},
   "source": [
    "<img src=\"pics/gjh.png\" alt=\"Drawing\" style=\"width: 600px;margin-center: auto; margin-center: 0;\"/>"
   ]
  },
  {
   "cell_type": "markdown",
   "id": "5fc9130c",
   "metadata": {},
   "source": [
    "<img src=\"pics/hybridA.png\" alt=\"Drawing\" style=\"width: 600px;margin-center: auto; margin-center: 0;\"/>"
   ]
  },
  {
   "cell_type": "code",
   "execution_count": 12,
   "id": "fe8dca05",
   "metadata": {},
   "outputs": [],
   "source": [
    "import numpy as np\n",
    "\n",
    "def hybrid(A,b):\n",
    "    n = len(A)\n",
    "    A = np.hstack((A,b))\n",
    "    icount=0\n",
    "    x=np.zeros(n)\n",
    "    \n",
    "    for i in range(n-1):                                     #Step 1: # Elimination process\n",
    "        p = i\n",
    "\n",
    "        while p < n-1 and A[p][i] == 0:                      #Step 2\n",
    "            p = p + 1\n",
    "        if p == n-1:\n",
    "            raise ValueError(\"Matrix A is singular\")\n",
    "            \n",
    "        if p != i:                                           #Step 3\n",
    "            A[[i,p]] = A[[p,i]]\n",
    "            \n",
    "        for j in range(i+1,n):                               #Step 4\n",
    "            m = A[j][i]/A[i][i]                              #Step 5\n",
    "            icount+=2\n",
    "            \n",
    "            for k in range(i,n+1):                           #Step 6\n",
    "                A[j][k] = A[j][k] - m*A[i][k]\n",
    "                icount+=1\n",
    "    print(A)\n",
    "    if A[n-1][n-1] == 0:                                     #Step 7\n",
    "        raise ValueError(\"Matrix A is singular\")\n",
    "        \n",
    "    for i in range(n-1,0,-1):                                #Step 8: Hybrid process, for each i in (n,2), for  \n",
    "                                                             #        each k in (1,i-1) Rk=Rk-aki/aii * Ri\n",
    "        for k in range(0,i):                                 #Step 9\n",
    "            m = A[k][i]/A[i][i]                              #Step 10\n",
    "            for j in range(i,n+1):\n",
    "                A[k][j]=A[k][j] - m*A[i][j]                  #Step 11\n",
    "    print(\"\\n\", A)\n",
    "\n",
    "    for i in range(0,n):                                     #Step 12: back substitution process\n",
    "        x[i]=str(A[i][n]/A[i][i])                            #Step 13\n",
    "    print(\"\\nSolution Vector: \\n\", x)\n",
    "    return"
   ]
  },
  {
   "cell_type": "code",
   "execution_count": 13,
   "id": "c00f8509",
   "metadata": {},
   "outputs": [
    {
     "name": "stdout",
     "output_type": "stream",
     "text": [
      "[[ 4.         -1.          1.          8.        ]\n",
      " [ 0.          5.5         1.5        -1.        ]\n",
      " [ 0.          0.          3.13636364  9.40909091]]\n",
      "\n",
      " [[ 4.          0.          0.          4.        ]\n",
      " [ 0.          5.5         0.         -5.5       ]\n",
      " [ 0.          0.          3.13636364  9.40909091]]\n",
      "\n",
      "Solution Vector: \n",
      " [ 1. -1.  3.]\n"
     ]
    }
   ],
   "source": [
    "A2= np.array([[4,-1,1],[2,5,2],[1,2,4,]],float)\n",
    "b2= np.array([8,3,11],float).reshape(-1,1)\n",
    "\n",
    "hybrid(A2,b2)"
   ]
  },
  {
   "cell_type": "markdown",
   "id": "caec7e42",
   "metadata": {},
   "source": [
    "#### <span style='color:red'> [1.6] Gaussian Elimination with Partial Pivoting"
   ]
  },
  {
   "cell_type": "markdown",
   "id": "09b54d8a",
   "metadata": {},
   "source": [
    "<img src=\"pics/gepp.png\" alt=\"Drawing\" style=\"width: 600px;margin-center: auto; margin-center: 0;\"/>"
   ]
  },
  {
   "cell_type": "code",
   "execution_count": 15,
   "id": "86b4c9fb",
   "metadata": {},
   "outputs": [],
   "source": [
    "import numpy as np\n",
    "np.set_printoptions(suppress=True)\n",
    "\n",
    "def gauss_PP(A,b):\n",
    "    n = len(A)\n",
    "    A = np.hstack((A,b))\n",
    "    icount = 0\n",
    "    sol = np.zeros(n)\n",
    "    print(\"Input Matrix: \\n\",A,\"\\n\")\n",
    "\n",
    "    for i in range(n-1):                                       #Step 2: Elimination process\n",
    "        p = i\n",
    "        max_entry=abs(A[p][i])                                 #Step 3\n",
    "        while p<n-1:\n",
    "            p+=1\n",
    "            if abs(A[p][i])> max_entry:                        #Start with partial pivoting\n",
    "               max_entry=abs(A[p][i])\n",
    "               \n",
    "        if A[p][i]==0:                                         #Step 4\n",
    "            raise ValueError(\"No unique solution exist\") \n",
    "        \n",
    "        if p != i:                                             #Step 5\n",
    "            A[[i,p]] = A[[p,i]] \n",
    "        \n",
    "        for j in range(i+1,n):                                 #Step 6\n",
    "            m = A[j][i]/A[i][i]                                #Step 7\n",
    "            icount+=2           \n",
    "            \n",
    "            for k in range(i+1,n+1):                           #Step 8\n",
    "                A[j][k] = A[j][k] - m*A[i][k]\n",
    "                icount+=1\n",
    "        print(A)\n",
    "        \n",
    "    if A[n-1][n-1] == 0:                                       #Step 9\n",
    "        raise ValueError(\"Matrix A is singular\")\n",
    "           \n",
    "    x_n=A[n-1][n]/A[n-1][n-1]                                  #Step 10: back substitution process\n",
    "    icount+=1\n",
    "    sol[-1]=x_n\n",
    "    \n",
    "    for i in range(n-1,0,-1):                                  #Step 11\n",
    "        x=A[i-1][n]/A[i-1][i-1]\n",
    "        icount+=1\n",
    "        for j in range(i+1,n+1):\n",
    "            s= ((A[i-1][j-1]*sol[j-1]))/A[i-1][i-1]\n",
    "            icount+=2\n",
    "            x -= s\n",
    "            sol[i-1]=x\n",
    "    print(\"\\n\\nicount =\", icount)\n",
    "    return sol"
   ]
  },
  {
   "cell_type": "code",
   "execution_count": 20,
   "id": "d72d4fc5",
   "metadata": {},
   "outputs": [
    {
     "name": "stdout",
     "output_type": "stream",
     "text": [
      "Input Matrix: \n",
      " [[ 4. -1.  1.  1.]\n",
      " [ 2.  5.  2.  1.]\n",
      " [ 1.  2.  4.  1.]] \n",
      "\n",
      "[[  1.   2.   4.   1.]\n",
      " [  2.   1.  -6.  -1.]\n",
      " [  4.  -9. -15.  -3.]]\n",
      "[[  1.           2.           4.           1.        ]\n",
      " [  4.          -9.         -15.          -3.        ]\n",
      " [  2.           1.          -7.66666667  -1.33333333]]\n",
      "\n",
      "\n",
      "icount = 23\n"
     ]
    }
   ],
   "source": [
    "A1= np.array([[1,1,1],[0,1,1],[0,0,5]],float)\n",
    "\n",
    "b1=np.array([1,1,1],float).reshape(-1,1)\n",
    "\n",
    "A3= np.array([[4,-1,1],[2,5,2],[1,2,4,]],float)\n",
    "b3= np.array([1,1,1],float).reshape(-1,1)\n",
    "\n",
    "x=gauss_PP(A3,b3)"
   ]
  },
  {
   "cell_type": "markdown",
   "id": "266d19ed",
   "metadata": {},
   "source": [
    "#### <span style='color:red'> [1.7] Gaussian Elimination with Scaled Partial Pivoting"
   ]
  },
  {
   "cell_type": "markdown",
   "id": "b45f9753",
   "metadata": {},
   "source": [
    "<img src=\"pics/ge_spp.png\" alt=\"Drawing\" style=\"width: 600px;margin-center: auto; margin-center: 0;\"/>"
   ]
  },
  {
   "cell_type": "code",
   "execution_count": 22,
   "id": "6d8e3d52",
   "metadata": {},
   "outputs": [],
   "source": [
    "import numpy as np\n",
    "np.set_printoptions(suppress=True)\n",
    "\n",
    "def gaussSPP(A,b):\n",
    "    n = len(A)\n",
    "    A = np.hstack((A,b))\n",
    "    x=[]\n",
    "    count = 0\n",
    "    s = np.zeros((n,1)) \n",
    "    \n",
    "    for i in range(n):                                   #Step 1\n",
    "        s[i] = abs(A[i][0])                              #I changed the 1 to a 0. Verify with lecturer.\n",
    "        for j in range(1,n):\n",
    "            count = count +1\n",
    "            if s[i] <abs(A[i][j]):\n",
    "                s[i] = abs(A[i][j])\n",
    "            count+=1    \n",
    "        \n",
    "    for i in range(0,n-1):                               #Step 2: Elimination process\n",
    "        p = i                                            #Step 3 \n",
    "        \n",
    "        c = abs(A[i][i])/s[i]\n",
    "        for j in range(i+1,n):\n",
    "            count = count + 1\n",
    "            if abs(A[j][i])/s[j]>c: #I changed the index of s from i to j as we are working in j-th row.\n",
    "                c = abs(A[j][i])/s[j]#Confirm with lecturer. Verified\n",
    "                p = j\n",
    "            count+=1\n",
    "            \n",
    "        if c == 0:                                        #Step 4\n",
    "            raise ValueError(\"No unique solution exists\")\n",
    "            \n",
    "        if p != i:                                        #Step 5 \n",
    "            A[[i,p]] = A[[p,i]]\n",
    "            s[i],s[p] = s[p],s[i]\n",
    "                    \n",
    "        for j in range(i+1,n):                            #Step 6\n",
    "            m = A[j][i]/A[i][i]                           #Step 7\n",
    "            count+=1\n",
    "            for k in range(i,n+1):\n",
    "                A[j][k] = A[j][k] - m*A[i][k]             #Step 8\n",
    "                count+=1        \n",
    "\n",
    "                                \n",
    "    if A[n-1][n-1] == 0:                                  #Step 9\n",
    "        raise ValueError(\"Matrix A is singular\")\n",
    "    else: \n",
    "        x.append (A[n-1][n]/A[n-1][n-1])                  #Step 10\n",
    "        count+=1\n",
    "\n",
    "        z = (A[(n-2)][(n-1)])*x[0]\n",
    "        count+=1\n",
    "        x.append((A[(n-2)][n]-z)/(A[(n-2)][(n-2)]))\n",
    "        count+=1\n",
    "        if n>2:\n",
    "            for q in range(1,n-1):                        #Step 11\n",
    "                t = 0\n",
    "                for s in range (0,q+1):\n",
    "                    t = t + (A[(n-2-q)][(n-1-s)])*x[s]\n",
    "                    count+=1\n",
    "                x.append(( A[(n-2-q)][n] - t) /(A[(n-2-q)][(n-2-q)]) )\n",
    "                count+=1\n",
    "    x.reverse()\n",
    "    print(\"Reduced Matrix: \\n\", A)  \n",
    "    print(\"Solution Vector: \", x)   \n",
    "    print (\"\\nOperations Count: \",count)"
   ]
  },
  {
   "cell_type": "code",
   "execution_count": 23,
   "id": "9abddff4",
   "metadata": {},
   "outputs": [
    {
     "name": "stdout",
     "output_type": "stream",
     "text": [
      "Reduced Matrix: \n",
      " [[   1.        -0.999      1.001      0.002  ]\n",
      " [   0.         0.00001    0.00001    0.00002]\n",
      " [   0.         0.      1001.002   1001.002  ]]\n",
      "Solution Vector:  [1.0928757898653885e-16, 1.0, 1.0]\n",
      "\n",
      "Operations Count:  38\n"
     ]
    }
   ],
   "source": [
    "np.set_printoptions(suppress=True)\n",
    "m = [[1, -0.999, 1.001],\n",
    "    [-1.001, 1, 1000],\n",
    "    [0, 0.00001, 0.00001]]\n",
    "s = [[0.002],\n",
    "    [1001],\n",
    "    [0.00002]]\n",
    "\n",
    "gaussSPP(m,s)"
   ]
  },
  {
   "cell_type": "markdown",
   "id": "f9f34d3a",
   "metadata": {},
   "source": [
    "#### <span style='color:red'> [1.8] Finding nxn matrix inverse"
   ]
  },
  {
   "cell_type": "code",
   "execution_count": 24,
   "id": "f180fcf7",
   "metadata": {},
   "outputs": [],
   "source": [
    "import numpy as np\n",
    "np.set_printoptions(suppress=True)\n",
    "\n",
    "def matrix_inverse(A):\n",
    "    global n\n",
    "    n = len(A)\n",
    "    I = np.identity(n) # declare I_n\n",
    "    A = np.hstack((A,I))\n",
    "    icount = 0\n",
    "    s=(n,n)\n",
    "    C = np.zeros(s)\n",
    "    print(\"Augmented Matrix: \\n\", A)\n",
    "    \n",
    "    for i in range(0,n-1):                               #Step 1\n",
    "        p = i        \n",
    "        while p < n and A[p][i] == 0:                    #Step 2\n",
    "            p = p + 1    \n",
    "        if p == n+1:\n",
    "            raise ValueError(\"Matrix is singular.\")       \n",
    "        if p != i:                                       #Step 3\n",
    "            A[[i,p]] = A[[p,i]]\n",
    "        \n",
    "        for j in range(i+1,n):                           #Step 4\n",
    "            m = A[j][i]/A[i][i]                          #Step 5\n",
    "            \n",
    "            for k in range(i+1,2*n):                     #Step 6\n",
    "                A[j][k] = A[j][k] - m*A[i][k] \n",
    "                icount += 1\n",
    "        print(\"\\nReduced matrix = \\n%s\" % (A))\n",
    "        \n",
    "    if A[n-1][n-1] == 0:                                 #Step 7\n",
    "        raise ValueError(\"Matrix is singular.\")  \n",
    "    \n",
    "    for i in range(n-1,0,-1):                            #Step 8\n",
    "        for j in range(0,i):                             #Step 9\n",
    "            m = A[j][i]/A[i][i]                          #Step 10\n",
    "            for k in range(i+1,2*n):                     #Step 11\n",
    "                A[j][k] = A[j][k] - m*A[i][k]\n",
    "                icount += 1\n",
    "    \n",
    "    for i in range(0,n):                                 #Step 12\n",
    "        for j in range(n,2*n):                           #Step 13\n",
    "            C[i][j-n] = A[i][j]/A[i][i]\n",
    "            icount+=1\n",
    "    print (icount)\n",
    "    return C"
   ]
  },
  {
   "cell_type": "code",
   "execution_count": 25,
   "id": "abcf6af7",
   "metadata": {},
   "outputs": [
    {
     "name": "stdout",
     "output_type": "stream",
     "text": [
      "Augmented Matrix: \n",
      " [[ 3. -2.  4.  1.  0.  0.]\n",
      " [ 1.  0.  2.  0.  1.  0.]\n",
      " [ 0.  1.  0.  0.  0.  1.]]\n",
      "\n",
      "Reduced matrix = \n",
      "[[ 3.         -2.          4.          1.          0.          0.        ]\n",
      " [ 1.          0.66666667  0.66666667 -0.33333333  1.          0.        ]\n",
      " [ 0.          1.          0.          0.          0.          1.        ]]\n",
      "\n",
      "Reduced matrix = \n",
      "[[ 3.         -2.          4.          1.          0.          0.        ]\n",
      " [ 1.          0.66666667  0.66666667 -0.33333333  1.          0.        ]\n",
      " [ 0.          1.         -1.          0.5        -1.5         1.        ]]\n",
      "33\n"
     ]
    },
    {
     "data": {
      "text/plain": [
       "array([[ 1. , -2. ,  2. ],\n",
       "       [ 0. ,  0. ,  1. ],\n",
       "       [-0.5,  1.5, -1. ]])"
      ]
     },
     "execution_count": 25,
     "metadata": {},
     "output_type": "execute_result"
    }
   ],
   "source": [
    "np.set_printoptions(suppress=True)\n",
    "A = np.array([[3,-2,4], [1,0,2], [0,1,0]] )\n",
    "matrix_inverse(A)"
   ]
  },
  {
   "cell_type": "markdown",
   "id": "73d6ee69",
   "metadata": {},
   "source": [
    "#### <span style='color:red'> [1.9] LU Factorization"
   ]
  },
  {
   "cell_type": "markdown",
   "id": "9245426e",
   "metadata": {},
   "source": [
    "<img src=\"pics/LU_F.png\" alt=\"Drawing\" style=\"width: 600px;margin-center: auto; margin-center: 0;\"/>"
   ]
  },
  {
   "cell_type": "code",
   "execution_count": 26,
   "id": "367a55a4",
   "metadata": {},
   "outputs": [],
   "source": [
    "import numpy as np\n",
    "def LU_fact(A):\n",
    "    n=len(A)\n",
    "    L = np.identity(n)\n",
    "    U = np.identity(n)\n",
    "                                 \n",
    "    for i in range(n-1):                                         #Step 1\n",
    "        p=i\n",
    "        while p < n-1 and A[p][i] != 0:\n",
    "            p = p + 1\n",
    "        if p>n:\n",
    "            raise ValueError(\"The input matrix is singular\")\n",
    "        if A[i][i] == 0:\n",
    "            print(\"Row interchange required\")\n",
    "        \n",
    "                                                 \n",
    "        for j in range(i+1,n):                                    #Step 2\n",
    "            m=A[j][i]/A[i][i]\n",
    "            L[j][i]=m                                             #Step 4\n",
    "            for k in range(i+1,n):\n",
    "                A[j][k] = A[j][k]-m*A[i][k]\n",
    "                \n",
    "    if A[n-1][n-1]==0:\n",
    "        raise ValueError(\"The input matrix is singular\")\n",
    "    for i in range(0,n):\n",
    "        for j in range(i,n):\n",
    "            U[i][j]=A[i][j]                                        #Step6\n",
    "    print(\"L:\", L, \"\\n\\nU:\", U)"
   ]
  },
  {
   "cell_type": "code",
   "execution_count": 27,
   "id": "1c6dc454",
   "metadata": {},
   "outputs": [
    {
     "name": "stdout",
     "output_type": "stream",
     "text": [
      "L: [[1.  0.  0. ]\n",
      " [1.5 1.  0. ]\n",
      " [1.5 1.  1. ]] \n",
      "\n",
      "U: [[ 2.  -1.   1. ]\n",
      " [ 0.   4.5  7.5]\n",
      " [ 0.   0.  -4. ]]\n"
     ]
    }
   ],
   "source": [
    "A1= np.array([[2,-1,1],[3,3,9],[3,3,5]],float)\n",
    "\n",
    "LU_fact(A1)"
   ]
  },
  {
   "cell_type": "markdown",
   "id": "03203703",
   "metadata": {},
   "source": [
    "<img src=\"pics/luf.png\" alt=\"Drawing\" style=\"width: 500px;margin-center: auto; margin-center: 0;\"/>"
   ]
  },
  {
   "cell_type": "code",
   "execution_count": 28,
   "id": "08701021",
   "metadata": {},
   "outputs": [],
   "source": [
    "def forward(L,b):\n",
    "    n=len(b)\n",
    "    y=np.zeros(n)\n",
    "    \n",
    "    y[0]=b[0]/L[0][0]                                                     #Step 1\n",
    "    \n",
    "    for i in range(1,n):                                                  #Step 2\n",
    "        y[i]=(b[i] - sum(([L[i][j]*y[j] for j in range(0,i)])))/L[i][i]\n",
    "        \n",
    "    return (y)      "
   ]
  },
  {
   "cell_type": "code",
   "execution_count": 29,
   "id": "a792dc11",
   "metadata": {},
   "outputs": [
    {
     "data": {
      "text/plain": [
       "array([ 3.,  4., -6.])"
      ]
     },
     "execution_count": 29,
     "metadata": {},
     "output_type": "execute_result"
    }
   ],
   "source": [
    "b = np.array([3,13,4])\n",
    "L = np.array([[1,0,0],[3,1,0],[2,1,1]])\n",
    "\n",
    "forward(L,b)"
   ]
  },
  {
   "cell_type": "markdown",
   "id": "0cf9a68a",
   "metadata": {},
   "source": [
    "<img src=\"pics/lub.png\" alt=\"Drawing\" style=\"width: 400px;margin-center: auto; margin-center: 0;\"/>"
   ]
  },
  {
   "cell_type": "code",
   "execution_count": 30,
   "id": "6921f1e7",
   "metadata": {},
   "outputs": [],
   "source": [
    "def backward(U,y):\n",
    "    n=len(y)\n",
    "    x=np.zeros(n)\n",
    "    \n",
    "    x[n-1]=y[n-1]/U[n-1][n-1]                                                          #Step 1\n",
    "    \n",
    "    for i in range(n-1,0,-1):                                                          #Step 2\n",
    "        xa = y[i-1]/U[i-1][i-1]\n",
    "        x[i-1] = xa-sum(( ((U[i-1][j-1]*x[j-1]))/U[i-1][i-1] for j in range(i+1,n+1)))\n",
    "    \n",
    "    return(x)   "
   ]
  },
  {
   "cell_type": "code",
   "execution_count": 31,
   "id": "cd9644eb",
   "metadata": {},
   "outputs": [
    {
     "data": {
      "text/plain": [
       "array([ 3.,  4., -2.])"
      ]
     },
     "execution_count": 31,
     "metadata": {},
     "output_type": "execute_result"
    }
   ],
   "source": [
    "U = np.array([[1,2,4],[0,2,2],[0,3,3]])\n",
    "y = np.array([3,4,-6])\n",
    "\n",
    "backward(U,y)"
   ]
  }
 ],
 "metadata": {
  "kernelspec": {
   "display_name": "Python 3 (ipykernel)",
   "language": "python",
   "name": "python3"
  },
  "language_info": {
   "codemirror_mode": {
    "name": "ipython",
    "version": 3
   },
   "file_extension": ".py",
   "mimetype": "text/x-python",
   "name": "python",
   "nbconvert_exporter": "python",
   "pygments_lexer": "ipython3",
   "version": "3.9.15"
  }
 },
 "nbformat": 4,
 "nbformat_minor": 5
}
