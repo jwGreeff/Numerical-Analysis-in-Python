{
 "cells": [
  {
   "cell_type": "markdown",
   "id": "ae03811d",
   "metadata": {},
   "source": [
    "# <center> NUMERICAL ANALYSIS\n",
    "\n",
    "## <span style='color:blue'> Theme 2 - Iterative Methods in Matrix Algebra"
   ]
  },
  {
   "cell_type": "markdown",
   "id": "736600f9",
   "metadata": {},
   "source": [
    "#### <span style='color:red'> [2.1] Jacobi Method"
   ]
  },
  {
   "cell_type": "markdown",
   "id": "0450927b",
   "metadata": {},
   "source": [
    "<img src=\"pics/jm.png\" alt=\"Drawing\" style=\"width: 600px;margin-center: auto; margin-center: 0;\"/>"
   ]
  },
  {
   "cell_type": "code",
   "execution_count": 4,
   "id": "7f37445d",
   "metadata": {},
   "outputs": [],
   "source": [
    "import numpy as np\n",
    "np.set_printoptions(suppress=True)\n",
    "\n",
    "def jacobi (a,x,b,TOL,N):\n",
    "    y = np.linalg.solve(a,b)\n",
    "    k=1                                                                        #Step 1           \n",
    "    n= len(a)\n",
    "    xt = np.empty(shape=(n,1))\n",
    "    \n",
    "    while k<=N:                                                                #Step 2\n",
    "        for i in range (0,n):                                                  #Step 3\n",
    "            s = sum([a[i][j]*x[j][0] for j in range(0,n)])- a[i][i]*x[i][0]\n",
    "            xt[i][0] = (b[i][0] -s)/a[i][i]\n",
    "        error = (np.linalg.norm(xt-x,2))\n",
    "        \n",
    "        if error<= TOL:                                                        #Step 4\n",
    "            return xt,k,error\n",
    "        k = k+1                                                                #Step 5\n",
    "        x = np.array(xt)                                                       #Step 6\n",
    "    return 'Maximum number of iterations exceeded'                             #Step 7"
   ]
  },
  {
   "cell_type": "code",
   "execution_count": 3,
   "id": "3f797c2d",
   "metadata": {},
   "outputs": [
    {
     "data": {
      "text/plain": [
       "(array([[1.99999342],\n",
       "        [0.00002963],\n",
       "        [1.0000079 ]]),\n",
       " 13,\n",
       " 5.2216109018187946e-05)"
      ]
     },
     "execution_count": 3,
     "metadata": {},
     "output_type": "execute_result"
    }
   ],
   "source": [
    "np.set_printoptions(suppress=True)\n",
    "A2 = np.array([[3,1,-1],[1,2,1],[1,-1,5]])\n",
    "b2 = np.array([[5],[3],[7]])\n",
    "x0 = [[0],[0],[0]]\n",
    "TOL = 10**(-4)\n",
    "N = 10000\n",
    "jacobi(A2,x0,b2,TOL,N)"
   ]
  },
  {
   "cell_type": "markdown",
   "id": "17a35ede",
   "metadata": {},
   "source": [
    "#### <span style='color:red'> [2.2] Ggauss-Seidel Method"
   ]
  },
  {
   "cell_type": "markdown",
   "id": "057e4ac0",
   "metadata": {},
   "source": [
    "<img src=\"pics/gsme.png\" alt=\"Drawing\" style=\"width: 600px;margin-center: auto; margin-center: 0;\"/>"
   ]
  },
  {
   "cell_type": "code",
   "execution_count": 5,
   "id": "5ce09a1e",
   "metadata": {},
   "outputs": [],
   "source": [
    "def seidel (a,x,b,TOL, N):\n",
    "    import numpy as np\n",
    "    y = np.linalg.solve(a,b)\n",
    "    k = 1\n",
    "    n= len(a)\n",
    "    while k <=N:\n",
    "        for i in range (0,n):\n",
    "            s1 = sum([a[i][j]*x[j][0] for j in range (0,i)])\n",
    "            s2 = sum([a[i][j]*x[j][0] for j in range (i+1,n)])\n",
    "            x[i][0] = (b[i][0]-s1-s2)/a[i][i]\n",
    "        if (np.linalg.norm(x-y))<= TOL:\n",
    "            return x,k\n",
    "        k = k+1\n",
    "        x = np.array(x)\n",
    "    return 'Maximum number of iterations exceeded'"
   ]
  },
  {
   "cell_type": "code",
   "execution_count": 6,
   "id": "3a180e16",
   "metadata": {},
   "outputs": [
    {
     "data": {
      "text/plain": [
       "(array([[ 2.00002765],\n",
       "        [-0.00001989],\n",
       "        [ 0.99999049]]),\n",
       " 7)"
      ]
     },
     "execution_count": 6,
     "metadata": {},
     "output_type": "execute_result"
    }
   ],
   "source": [
    "np.set_printoptions(suppress=True)\n",
    "A2 = np.array([[3,1,-1],[1,2,1],[1,-1,5]])\n",
    "b2 = np.array([[5],[3],[7]])\n",
    "x0 = [[0],[0],[0]]\n",
    "TOL = 10**(-4)\n",
    "N = 10000\n",
    "seidel(A2,x0,b2,TOL,N)"
   ]
  }
 ],
 "metadata": {
  "kernelspec": {
   "display_name": "Python 3 (ipykernel)",
   "language": "python",
   "name": "python3"
  },
  "language_info": {
   "codemirror_mode": {
    "name": "ipython",
    "version": 3
   },
   "file_extension": ".py",
   "mimetype": "text/x-python",
   "name": "python",
   "nbconvert_exporter": "python",
   "pygments_lexer": "ipython3",
   "version": "3.9.15"
  }
 },
 "nbformat": 4,
 "nbformat_minor": 5
}
