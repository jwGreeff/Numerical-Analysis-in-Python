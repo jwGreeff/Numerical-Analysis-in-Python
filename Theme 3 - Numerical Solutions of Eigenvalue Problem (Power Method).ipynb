{
 "cells": [
  {
   "cell_type": "markdown",
   "id": "a70f81af",
   "metadata": {},
   "source": [
    "# <center> NUMERICAL ANALYSIS\n",
    "\n",
    "## <span style='color:blue'> Theme 3 - Numerical Solutions of Eigenvalue Problem (Power Method)"
   ]
  },
  {
   "cell_type": "markdown",
   "id": "324aeca0",
   "metadata": {},
   "source": [
    "#### <span style='color:red'> [3.1] Power Method with a shift of q"
   ]
  },
  {
   "cell_type": "markdown",
   "id": "3c1a6f91",
   "metadata": {},
   "source": [
    "<img src=\"pics/pmq.png\" alt=\"Drawing\" style=\"width: 600px;margin-center: auto; margin-center: 0;\"/>"
   ]
  },
  {
   "cell_type": "code",
   "execution_count": 9,
   "id": "c6345da8",
   "metadata": {},
   "outputs": [],
   "source": [
    "import numpy as np\n",
    "import operator\n",
    "\n",
    "def power(A,x0,q,TOL,N):\n",
    "    I = np.identity(len(A))\n",
    "    k = 1                                                         #Step 1\n",
    "    x_p = np.linalg.norm(x0, np.inf)\n",
    "    p = 0\n",
    "    for i in range(0,N):                                          #Step 2\n",
    "        if(x_p == abs(x0[i])):\n",
    "            p = i\n",
    "            break\n",
    "        \n",
    "    x = x0/x_p                                                    #Step 3\n",
    "    \n",
    "    while(k <= N):                                                #Step 4\n",
    "        print(\"-----ITERATION-----\", k)\n",
    "        \n",
    "        lin_sys = (A - q*I)                                       #Step 5\n",
    "        if q == 0:\n",
    "            new_sys = A\n",
    "        else: \n",
    "            if np.linalg.det(lin_sys) != 0:                        \n",
    "                new_sys = np.linalg.inv(lin_sys)\n",
    "            else:\n",
    "                raise ValueError(\"Sol not Unique. Eigenvalue = \", q2)\n",
    "        \n",
    "        y = np.matmul(new_sys,x) # solve linear system\n",
    "        mu = y[p]                                                 #Step 6 \n",
    "        print(\"mu\",mu)\n",
    "        \n",
    "        y_p = np.linalg.norm(y, np.inf)                           #Step 7\n",
    "        if y_p == 0:\n",
    "            raise ValueError(\"A has eigenval 0, choose new x0\")\n",
    "        p = 0\n",
    "        for j in range(0,N):\n",
    "            if( y_p == abs(y[j]) ):\n",
    "                p = j\n",
    "                break\n",
    "        \n",
    "        ERR = np.linalg.norm((x-(y/y_p)), np.inf)                 #Step 9\n",
    "        x = y/y[p]\n",
    "        print(\"x = \\n\",x)\n",
    "        \n",
    "        if(ERR < TOL):                                            #Step 10\n",
    "            lam = (1/mu) + q\n",
    "            print(\"Procedure was succesful\")\n",
    "            return (lam, x)\n",
    "        \n",
    "        k += 1                                                    #Step 11\n",
    "    print(\"The maximum number of iterations exceeded\")"
   ]
  },
  {
   "cell_type": "code",
   "execution_count": 10,
   "id": "5bbb1ce1",
   "metadata": {},
   "outputs": [
    {
     "name": "stdout",
     "output_type": "stream",
     "text": [
      "-----ITERATION----- 1\n",
      "mu [3.]\n",
      "x = \n",
      " [[0.83333333]\n",
      " [0.83333333]\n",
      " [1.        ]]\n",
      "-----ITERATION----- 2\n",
      "mu [3.66666667]\n",
      "x = \n",
      " [[0.95454545]\n",
      " [0.95454545]\n",
      " [1.        ]]\n",
      "-----ITERATION----- 3\n",
      "mu [3.90909091]\n",
      "x = \n",
      " [[0.98837209]\n",
      " [0.98837209]\n",
      " [1.        ]]\n",
      "The maximum number of iterations exceeded\n"
     ]
    }
   ],
   "source": [
    "a = np.array([[2,1,1], [1,2,1], [1,1,2]])\n",
    "x = np.array([[1],[1],[2]])\n",
    "TOL = 10**-4\n",
    "N = 3\n",
    "q = 0\n",
    "power(a,x,q,TOL,N)"
   ]
  },
  {
   "cell_type": "markdown",
   "id": "5753bb88",
   "metadata": {},
   "source": [
    "#### <span style='color:red'> [3.2] Inverse Power Method"
   ]
  },
  {
   "cell_type": "markdown",
   "id": "ff3212c2",
   "metadata": {},
   "source": [
    "<img src=\"pics/ipm.png\" alt=\"Drawing\" style=\"width: 400px;margin-center: auto; margin-center: 0;\"/>"
   ]
  },
  {
   "cell_type": "code",
   "execution_count": 14,
   "id": "dd97f625",
   "metadata": {},
   "outputs": [],
   "source": [
    "def ipower(A,x0,q,TOL,N):\n",
    "    q1 = np.dot(np.dot(np.matrix.transpose(x0),A1),x0)            #Step 1\n",
    "    q2 = q1/np.dot(np.matrix.transpose(x0),x0)\n",
    "    I = np.identity(len(A))\n",
    "    k = 1                                                         #Step 2\n",
    "    x_p = np.linalg.norm(x0, np.inf)\n",
    "    p = 0\n",
    "    \n",
    "    for i in range(0,N):                                          #Step 3\n",
    "        if( x_p == abs(x0[i]) ):\n",
    "            p = i\n",
    "            break\n",
    "        \n",
    "    x = x0/x_p                                                    #Step 4\n",
    "    \n",
    "    while(k <= N):                                                #Step 5\n",
    "        print(\"-----ITERATION-----\", k)\n",
    "        \n",
    "        lin_sys = (A - q*I)                                       #Step 6\n",
    "        \n",
    "        if np.linalg.det(lin_sys) != 0:                           #Step 7\n",
    "            new_sys = np.linalg.inv(lin_sys)\n",
    "        else:\n",
    "            raise ValueError(\"Sol not Unique. Eigenvalue = \", q2)\n",
    "        y = np.matmul(new_sys,x) # solve linear system\n",
    "        \n",
    "        mu = y[p]                                                 #Step 8\n",
    "        print(\"mu\",mu)\n",
    "        \n",
    "        y_p = np.linalg.norm(y, np.inf)                           #Step 9\n",
    "        p = 0\n",
    "        for j in range(0,N):\n",
    "            if( y_p == abs(y[j]) ):\n",
    "                p = j\n",
    "                break\n",
    "        \n",
    "        ERR = np.linalg.norm(( x-(y/y_p) ), np.inf)               #Step 10\n",
    "        x = y/y[p]\n",
    "        print(\"x = \\n\",x)\n",
    "        \n",
    "        if(ERR < TOL):                                            #Step 11\n",
    "            lam = (1/mu) + q\n",
    "            print(\"Procedure was succesful\")\n",
    "            return (lam, x)\n",
    "        \n",
    "        k += 1                                                    #Step 12\n",
    "    print(\"The maximum number of iterations exceeded\")"
   ]
  },
  {
   "cell_type": "code",
   "execution_count": 15,
   "id": "080c7fe3",
   "metadata": {},
   "outputs": [
    {
     "name": "stdout",
     "output_type": "stream",
     "text": [
      "-----ITERATION----- 1\n",
      "mu [-0.5]\n",
      "x = \n",
      " [[ 0. ]\n",
      " [ 1. ]\n",
      " [-0.5]]\n",
      "-----ITERATION----- 2\n",
      "mu [-0.75]\n",
      "x = \n",
      " [[-0.33333333]\n",
      " [ 1.        ]\n",
      " [-1.        ]]\n",
      "-----ITERATION----- 3\n",
      "mu [-1.16666667]\n",
      "x = \n",
      " [[-0.14285714]\n",
      " [ 1.        ]\n",
      " [-0.71428571]]\n",
      "The maximum number of iterations exceeded\n"
     ]
    }
   ],
   "source": [
    "A1 = np.array([[2, 1, 1], [1, 2, 1], [1, 1, 2]])\n",
    "x0 = np.array([[1],[-1],[2]])\n",
    "q = 2 #initial shift\n",
    "N = 3\n",
    "Tol = 10**-4\n",
    "ipower(A1,x0,q,Tol,N)"
   ]
  }
 ],
 "metadata": {
  "kernelspec": {
   "display_name": "Python 3 (ipykernel)",
   "language": "python",
   "name": "python3"
  },
  "language_info": {
   "codemirror_mode": {
    "name": "ipython",
    "version": 3
   },
   "file_extension": ".py",
   "mimetype": "text/x-python",
   "name": "python",
   "nbconvert_exporter": "python",
   "pygments_lexer": "ipython3",
   "version": "3.9.15"
  }
 },
 "nbformat": 4,
 "nbformat_minor": 5
}
