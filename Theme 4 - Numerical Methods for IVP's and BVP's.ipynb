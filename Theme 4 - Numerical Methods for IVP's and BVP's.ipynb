{
 "cells": [
  {
   "cell_type": "markdown",
   "id": "826c6f78",
   "metadata": {},
   "source": [
    "# <center> NUMERICAL ANALYSIS\n",
    "\n",
    "## <span style='color:blue'> Theme 4 - Numerical Methods for IVP's and BVP's"
   ]
  },
  {
   "cell_type": "markdown",
   "id": "2600acb9",
   "metadata": {},
   "source": [
    "#### <span style='color:red'> [4.1] Euler's Method"
   ]
  },
  {
   "cell_type": "markdown",
   "id": "84c5a406",
   "metadata": {},
   "source": [
    "<img src=\"pics/em.png\" alt=\"Drawing\" style=\"width: 400px;margin-center: auto; margin-center: 0;\"/>"
   ]
  },
  {
   "cell_type": "code",
   "execution_count": 2,
   "id": "fb2006d4",
   "metadata": {},
   "outputs": [],
   "source": [
    "def Euler(f,a,b,N,alpha):\n",
    "    h =(b-a)/N                                   #Step 1\n",
    "    t = a\n",
    "    w = alpha\n",
    "    w_list, t_list = [],[]\n",
    "    w_list.append(w)\n",
    "    t_list.append(t)\n",
    "    for i in range (1,N+1):                      #Step 2\n",
    "        w = w + h*func(t,w)                      #Step 3\n",
    "        w_list.append(w)\n",
    "        t = np.around(a+i*h,2)\n",
    "        t_list.append(t)\n",
    "    return t_list, w_list                        #Step 4"
   ]
  },
  {
   "cell_type": "code",
   "execution_count": 5,
   "id": "5f5d02ec",
   "metadata": {},
   "outputs": [
    {
     "data": {
      "text/plain": [
       "([1, 1.5, 2.0], [2, 1.7071067811865475, 1.8334756142505562])"
      ]
     },
     "execution_count": 5,
     "metadata": {},
     "output_type": "execute_result"
    }
   ],
   "source": [
    "import numpy as np\n",
    "def f(t,y):\n",
    "    return -y + t*np.sqrt(y)\n",
    "a=1\n",
    "b=2\n",
    "N=2\n",
    "alpha = 2\n",
    "Euler(f,a,b,N,alpha)"
   ]
  },
  {
   "cell_type": "markdown",
   "id": "f5708ec2",
   "metadata": {},
   "source": [
    "#### <span style='color:red'> [4.2] 4th Order Runge-Kutta Method"
   ]
  },
  {
   "cell_type": "markdown",
   "id": "a1c1c7be",
   "metadata": {},
   "source": [
    "<img src=\"pics/rk.png\" alt=\"Drawing\" style=\"width: 600px;margin-center: auto; margin-center: 0;\"/>"
   ]
  },
  {
   "cell_type": "code",
   "execution_count": 11,
   "id": "25843c54",
   "metadata": {
    "scrolled": true
   },
   "outputs": [],
   "source": [
    "def runge_kutta (a,b,N,alpha):\n",
    "    h = (b-a)/N                           #Step 1 \n",
    "    t=a\n",
    "    w=alpha\n",
    "    w_list, t_list = [],[]\n",
    "    for i in range (1,N+1):               #Step 2\n",
    "        k1 = h*f1(t, w)                   #Step 3\n",
    "        k2 = h*f1(t+0.5*h , w+0.5*k1)\n",
    "        k3 = h*f1(t+0.5*h , w+0.5*k2)\n",
    "        k4 = h*f1(t+h , w+k3)\n",
    "        w = w + (1/6)*(k1+2*k2+2*k3+k4)   #Step 4\n",
    "        w_list.append(w)\n",
    "        t = a+i*h\n",
    "        t_list.append(t)\n",
    "    return t_list, w_list                 #Step 5\n",
    "\n",
    "def f1(t,y):\n",
    "    return t*np.exp(3*t)-2*y\n",
    "\n",
    "def exact_sol(t):\n",
    "    return (1/5)*t*np.exp(3*t)-(1/25)*np.exp(3*t)+(1/25)*np.exp(-2*t)"
   ]
  },
  {
   "cell_type": "code",
   "execution_count": 12,
   "id": "0163af85",
   "metadata": {},
   "outputs": [
    {
     "data": {
      "text/plain": [
       "([0.5, 1.0], [0.2969974621293295, 3.3143117774778457])"
      ]
     },
     "execution_count": 12,
     "metadata": {},
     "output_type": "execute_result"
    }
   ],
   "source": [
    "np.set_printoptions(suppress=True)\n",
    "a = 0\n",
    "b = 1\n",
    "N = 2\n",
    "alpha = 0\n",
    "runge_kutta (a,b,N,alpha)"
   ]
  },
  {
   "cell_type": "markdown",
   "id": "561411b8",
   "metadata": {},
   "source": [
    "#### <span style='color:red'> [4.3] 4th Order Runge-Kutta Method for Systems"
   ]
  },
  {
   "cell_type": "code",
   "execution_count": 13,
   "id": "b9d6d97b",
   "metadata": {},
   "outputs": [],
   "source": [
    "import numpy as np\n",
    "import matplotlib.pyplot as plt\n",
    "\n",
    "def rk4_systems(a, b, N, y_i,f):\n",
    "    m = len(y_i)\n",
    "    h = (b-a)/(N)\n",
    "    t = np.linspace(a,b,N+1)  # x-values of intervals\n",
    "    W = np.zeros((m,N+1))\n",
    "    k1 = np.zeros(m)\n",
    "    k2 = np.zeros(m)\n",
    "    k3 = np.zeros(m)\n",
    "    k4 = np.zeros(m)\n",
    "    \n",
    "    # Step 2\n",
    "    for j in range(0,m):\n",
    "        # Step 3\n",
    "        W[j][0] = y_i[j]\n",
    "\n",
    "    # Step 4\n",
    "    for i in range(1,N+1):\n",
    "        # Step 5\n",
    "        for j in range(0,m):\n",
    "            k1[j] = h*f[j](t[i-1],[W[k][i-1] for k in range(0,m)])\n",
    "        # Step 6\n",
    "        for j in range(0,m):\n",
    "            k2[j] = h*f[j](t[i-1] + h/2,[W[k][i-1] + 0.5*k1[k] for k in range(0,m)])\n",
    "        # Step 7\n",
    "        for j in range(0,m):\n",
    "            k3[j] = h*f[j](t[i-1] + h/2,[W[k][i-1] + 0.5*k2[k] for k in range(0,m)])\n",
    "        # Step 8\n",
    "        for j in range(0,m):\n",
    "            k4[j] = h*f[j](t[i-1] + h,[W[k][i-1] + k3[k] for k in range(0,m)])\n",
    "        # Step 9\n",
    "        for j in range(0,m):\n",
    "            W[j][i] = W[j][i-1] + (k1[j] + 2*k2[j] + 2*k3[j] + k4[j])/6\n",
    "    \n",
    "    return(t,W)"
   ]
  },
  {
   "cell_type": "code",
   "execution_count": 14,
   "id": "0401afef",
   "metadata": {},
   "outputs": [
    {
     "name": "stdout",
     "output_type": "stream",
     "text": [
      "t_i:  [0.  0.2 0.4 0.6 0.8 1. ] \n",
      "\n",
      " [[ 1.          1.        ]\n",
      " [ 2.12036583  1.50699185]\n",
      " [ 4.44122776  3.24224021]\n",
      " [ 9.73913329  8.163417  ]\n",
      " [22.67655977 21.34352778]\n",
      " [55.66118088 56.03050296]]\n"
     ]
    }
   ],
   "source": [
    "a = 0.0\n",
    "b = 1\n",
    "N = 5\n",
    "y_i = np.array([1,1])\n",
    "\n",
    "### Functions for u' = f(t,u) ####\n",
    "f1 = lambda t,u: 3*u[0] + 2*u[1] - np.exp(2*t)*(2*t**2+1)\n",
    "f2 = lambda t,u: 4*u[0] + u[1] + np.exp(2*t)*(t**2+2*t-4)\n",
    "f_a = np.array([f1,f2])\n",
    "\n",
    "t_i,w_i = rk4_systems(a,b,N,y_i,f_a)\n",
    "print(\"t_i: \",np.around(t_i,2), \"\\n\\n\",np.transpose(w_i))"
   ]
  },
  {
   "cell_type": "markdown",
   "id": "158715e7",
   "metadata": {},
   "source": [
    "#### <span style='color:red'> [4.4] Heun's Method"
   ]
  },
  {
   "cell_type": "code",
   "execution_count": 16,
   "id": "227efdc9",
   "metadata": {},
   "outputs": [],
   "source": [
    "def heun (a,b,N,alpha):\n",
    "    h = np.round((b-a)/N,2)\n",
    "    w_list, t_list, err_list = [],[],[]\n",
    "    w_list.append(alpha)\n",
    "    t_list.append(a)\n",
    "   \n",
    "    for i in range (1, N+1):\n",
    "        k1 = h*f3(t_list[i-1],w_list[i-1])\n",
    "        k2 = h*f3(t_list[i-1]+(1/3)*h,w_list[i-1] +(1/3)*k1)\n",
    "        k3 = h*f3(t_list[i-1] + (2/3)*h, w_list[i-1] +(2/3)*k2)\n",
    "        w = np.round(w_list[i-1] + 0.25*(k1+3*k3),7)\n",
    "        w_list.append(w)\n",
    "        t = np.round(t_list[i-1]+h,2)\n",
    "        t_list.append(t)\n",
    "        e = np.around(exact_sol3(t_list[i-1])-w_list[i-1],7)\n",
    "        err_list.append(e)\n",
    "    return t_list, w_list, err_list\n",
    "\n",
    "def f3(t,y):\n",
    "    return y-t**2+1\n",
    "\n",
    "def exact_sol3(t):\n",
    "    return t**2+2*t+1-0.5*np.exp(t)"
   ]
  },
  {
   "cell_type": "code",
   "execution_count": 17,
   "id": "0b264ae3",
   "metadata": {},
   "outputs": [
    {
     "data": {
      "text/plain": [
       "([0, 0.2, 0.4, 0.6, 0.8, 1.0, 1.2, 1.4, 1.6, 1.8, 2.0],\n",
       " [0.5,\n",
       "  0.8292444,\n",
       "  1.2139749,\n",
       "  1.6487658,\n",
       "  2.1269904,\n",
       "  2.6405554,\n",
       "  3.1795761,\n",
       "  3.7319801,\n",
       "  4.2830228,\n",
       "  4.8146963,\n",
       "  5.3050069],\n",
       " [0.0,\n",
       "  5.42e-05,\n",
       "  0.0001128,\n",
       "  0.0001748,\n",
       "  0.0002391,\n",
       "  0.0003037,\n",
       "  0.0003654,\n",
       "  0.0004199,\n",
       "  0.000461,\n",
       "  0.00048])"
      ]
     },
     "execution_count": 17,
     "metadata": {},
     "output_type": "execute_result"
    }
   ],
   "source": [
    "import numpy as np\n",
    "np.set_printoptions(suppress=True)\n",
    "f= lambda t,y: -20*y + 20*np.sin(t) + np.cos(t)\n",
    "a=0\n",
    "b=2\n",
    "N=10\n",
    "alpha = 0.5\n",
    "heun(a,b,N,alpha)"
   ]
  },
  {
   "cell_type": "markdown",
   "id": "95f5ae80",
   "metadata": {},
   "source": [
    "#### <span style='color:red'> [4.5] Linear Finite Difference Method"
   ]
  },
  {
   "cell_type": "markdown",
   "id": "1e32108c",
   "metadata": {},
   "source": [
    "<img src=\"pics/lfd.png\" alt=\"Drawing\" style=\"width: 500px;margin-center: auto; margin-center: 0;\"/>"
   ]
  },
  {
   "cell_type": "code",
   "execution_count": 19,
   "id": "4aec98c7",
   "metadata": {},
   "outputs": [],
   "source": [
    "import numpy as np\n",
    "\n",
    "def LFD (a,b,n,alpha,beta,p,q,r):\n",
    "    x = np.zeros(n)\n",
    "    L = np.zeros(n)\n",
    "    A = np.zeros((n,n))\n",
    "    D = np.zeros((n,1))\n",
    "    h = (b-a)/(n+1)   \n",
    "    print(h)\n",
    "    #Step 1:\n",
    "    x[0] = a+h\n",
    "    x[n-1] = b-h\n",
    "    A[0][0] = 4+2*h**2*q(x[0])\n",
    "    A[0][1] = -1*(2-h*p(x[0]))\n",
    "    D[0] = -2*h**2*r(x[0])+alpha*(2+h*p(x[0]))\n",
    "    \n",
    "    #Step 2:\n",
    "    for i in range (1,n-1):\n",
    "        x[i] = a+(i+1)*h\n",
    "        A[i][i-1] = -1*(2+h*p(x[i]))\n",
    "        A[i][i] = 4+2*h**2*q(x[i])\n",
    "        A[i][i+1] = -1*(2-h*p(x[i]))\n",
    "        D[i] = -2*h**2*r(x[i])\n",
    "    \n",
    "    #Step 3:\n",
    "    A[n-1][n-2] = -1*(2+h*p(x[n-1]))\n",
    "    A[n-1][n-1] = 4+2*h**2*q(x[n-1])\n",
    "    D[n-1] = -2*h**2*r(x[n-1])+beta*(2-h*p(x[n-1]))\n",
    "\n",
    "    #Steps 4 – 8 solve a tridiagonal linear system using Algorithm 6.7\n",
    "    return (A,D,x)"
   ]
  },
  {
   "cell_type": "code",
   "execution_count": 21,
   "id": "87cdbe95",
   "metadata": {},
   "outputs": [
    {
     "name": "stdout",
     "output_type": "stream",
     "text": [
      "0.1\n",
      " x_i \t\t w_i\n",
      "\n",
      "[[1.1     0.80725]\n",
      " [1.2     0.6476 ]\n",
      " [1.3     0.52435]\n",
      " [1.4     0.441  ]\n",
      " [1.5     0.40125]\n",
      " [1.6     0.409  ]\n",
      " [1.7     0.46835]\n",
      " [1.8     0.5836 ]\n",
      " [1.9     0.75925]]\n"
     ]
    }
   ],
   "source": [
    "#Step 4:\n",
    "a=1.0\n",
    "b=2.0\n",
    "h=0.5\n",
    "N= 9\n",
    "alpha=1\n",
    "beta=1\n",
    "\n",
    "p = lambda x: 0*x\n",
    "q = lambda x: 0*x\n",
    "r = lambda x: x**2+x+1\n",
    "\n",
    "A,D,x_i = LFD (a,b,N,alpha,beta,p,q,r)\n",
    "y = np.linalg.solve(A,D)\n",
    "xi = np.reshape(x_i,(N, 1))\n",
    "print(\" x_i \\t\\t w_i\\n\")\n",
    "print(np.hstack((xi,y)))"
   ]
  }
 ],
 "metadata": {
  "kernelspec": {
   "display_name": "Python 3 (ipykernel)",
   "language": "python",
   "name": "python3"
  },
  "language_info": {
   "codemirror_mode": {
    "name": "ipython",
    "version": 3
   },
   "file_extension": ".py",
   "mimetype": "text/x-python",
   "name": "python",
   "nbconvert_exporter": "python",
   "pygments_lexer": "ipython3",
   "version": "3.9.15"
  }
 },
 "nbformat": 4,
 "nbformat_minor": 5
}
